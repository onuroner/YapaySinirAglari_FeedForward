{
  "nbformat": 4,
  "nbformat_minor": 0,
  "metadata": {
    "colab": {
      "provenance": []
    },
    "kernelspec": {
      "name": "python3",
      "display_name": "Python 3"
    },
    "language_info": {
      "name": "python"
    }
  },
  "cells": [
    {
      "cell_type": "code",
      "source": [
        "import torch\n",
        "import torch.nn as nn\n",
        "\n",
        "torch.manual_seed(1)\n",
        "\n",
        "#Input Tensörü\n",
        "x = torch.tensor([[1,2,3],[4,5,6]], dtype=torch.float32)\n",
        "\n",
        "# Girdi boyutu, nöron sayısı ve çıktı boyutu tanımlama\n",
        "INPUT_SIZE = torch.flatten(x).size(0)\n",
        "HIDDEN_NEURON_NUMBER = 50\n",
        "OUTPUT_CLASSES = 1\n",
        "\n",
        "# Layerları tanımladık.\n",
        "hidden_layer = nn.Linear(INPUT_SIZE, HIDDEN_NEURON_NUMBER)\n",
        "output_layer = nn.Linear(HIDDEN_NEURON_NUMBER,OUTPUT_CLASSES)\n",
        "\n",
        "# Aktivasyon fonksiyonları\n",
        "def tanh_activation(x):\n",
        "  return (torch.exp(x)-torch.exp(-x)) / (torch.exp(x)+torch.exp(-x))\n",
        "def sigmoid_activation(x):\n",
        "  return 1 / (1 + torch.exp(-x))\n",
        "\n",
        "# Tensörün layerlardan ve fonksiyonlardan geçirilmesi\n",
        "x = torch.flatten(x)\n",
        "\n",
        "# Hidden layer\n",
        "hidden_res = hidden_layer(x)\n",
        "hidden_layer_output = tanh_activation(hidden_res)\n",
        "\n",
        "# Output layer\n",
        "output_res = output_layer(hidden_layer_output)\n",
        "output_layer_output = sigmoid_activation(output_res)\n",
        "\n",
        "print(output_layer_output)"
      ],
      "metadata": {
        "colab": {
          "base_uri": "https://localhost:8080/"
        },
        "id": "cWhFUdN7CtLs",
        "outputId": "c15c0538-2501-4baf-f798-fe1d4578906e"
      },
      "execution_count": 1,
      "outputs": [
        {
          "output_type": "stream",
          "name": "stdout",
          "text": [
            "tensor([0.5932], grad_fn=<MulBackward0>)\n"
          ]
        }
      ]
    },
    {
      "cell_type": "code",
      "source": [
        "import torch\n",
        "import torch.nn as nn\n",
        "\n",
        "torch.manual_seed(190401095)\n",
        "\n",
        "#Input Tensörü\n",
        "x = torch.tensor([[1,2,3],[4,5,6]], dtype=torch.float32)\n",
        "\n",
        "# Girdi boyutu, nöron sayısı ve çıktı boyutu tanımlama\n",
        "INPUT_SIZE = torch.flatten(x).size(0)\n",
        "HIDDEN_NEURON_NUMBER = 50\n",
        "OUTPUT_CLASSES = 1\n",
        "\n",
        "# Layerları tanımladık.\n",
        "hidden_layer = nn.Linear(INPUT_SIZE, HIDDEN_NEURON_NUMBER)\n",
        "output_layer = nn.Linear(HIDDEN_NEURON_NUMBER,OUTPUT_CLASSES)\n",
        "\n",
        "# Aktivasyon fonksiyonları\n",
        "def tanh_activation(x):\n",
        "  return (torch.exp(x)-torch.exp(-x)) / (torch.exp(x)+torch.exp(-x))\n",
        "def sigmoid_activation(x):\n",
        "  return 1 / (1 + torch.exp(-x))\n",
        "\n",
        "# Tensörün layerlardan ve fonksiyonlardan geçirilmesi\n",
        "x = torch.flatten(x)\n",
        "\n",
        "# Hidden layer\n",
        "hidden_res = hidden_layer(x)\n",
        "hidden_layer_output = tanh_activation(hidden_res)\n",
        "\n",
        "# Output layer\n",
        "output_res = output_layer(hidden_layer_output)\n",
        "output_layer_output = sigmoid_activation(output_res)\n",
        "\n",
        "print(output_layer_output)"
      ],
      "metadata": {
        "colab": {
          "base_uri": "https://localhost:8080/"
        },
        "id": "k1kMWcsMsslp",
        "outputId": "ff66b1f7-0882-48f1-db13-b1723f108c87"
      },
      "execution_count": 2,
      "outputs": [
        {
          "output_type": "stream",
          "name": "stdout",
          "text": [
            "tensor([0.3436], grad_fn=<MulBackward0>)\n"
          ]
        }
      ]
    }
  ]
}